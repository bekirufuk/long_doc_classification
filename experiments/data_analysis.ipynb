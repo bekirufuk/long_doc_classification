{
 "cells": [
  {
   "cell_type": "code",
   "execution_count": 28,
   "metadata": {},
   "outputs": [],
   "source": [
    "import os, glob\n",
    "import config\n",
    "import pandas as pd\n",
    "from tqdm.auto import tqdm\n",
    "import seaborn as sns\n",
    "sns.set(style='darkgrid')"
   ]
  },
  {
   "cell_type": "markdown",
   "metadata": {},
   "source": [
    "# Data Analysis"
   ]
  },
  {
   "cell_type": "code",
   "execution_count": 45,
   "metadata": {},
   "outputs": [],
   "source": [
    "def from_chunks_to_analysis():\n",
    "    files = glob.glob('../data/patentsview/chunks/*.csv')\n",
    "    df = pd.DataFrame(columns=['label', 'token_length'])\n",
    "    progress_bar = tqdm(range(len(files)))\n",
    "    for file in files:\n",
    "        data = pd.read_csv(file, usecols=['label', 'token_length'])\n",
    "        df = pd.concat([df, data])\n",
    "        progress_bar.update(1)\n",
    "    df.to_csv('../data/patentsview/meta/label_analysis.csv', index=None)"
   ]
  },
  {
   "cell_type": "code",
   "execution_count": 46,
   "metadata": {},
   "outputs": [],
   "source": [
    "df = pd.read_csv('../data/patentsview/meta/label_analysis.csv')"
   ]
  },
  {
   "cell_type": "code",
   "execution_count": 51,
   "metadata": {},
   "outputs": [],
   "source": [
    "# ID to letter representation of labels\n",
    "df['label'] = df['label'].apply(lambda x: config.id2label[x])"
   ]
  },
  {
   "cell_type": "code",
   "execution_count": 53,
   "metadata": {},
   "outputs": [
    {
     "name": "stdout",
     "output_type": "stream",
     "text": [
      "<class 'pandas.core.frame.DataFrame'>\n",
      "RangeIndex: 162696 entries, 0 to 162695\n",
      "Data columns (total 2 columns):\n",
      " #   Column        Non-Null Count   Dtype  \n",
      "---  ------        --------------   -----  \n",
      " 0   label         162696 non-null  object \n",
      " 1   token_length  162696 non-null  float64\n",
      "dtypes: float64(1), object(1)\n",
      "memory usage: 2.5+ MB\n"
     ]
    }
   ],
   "source": [
    "df.info()"
   ]
  },
  {
   "cell_type": "code",
   "execution_count": 52,
   "metadata": {},
   "outputs": [
    {
     "data": {
      "text/html": [
       "<div>\n",
       "<style scoped>\n",
       "    .dataframe tbody tr th:only-of-type {\n",
       "        vertical-align: middle;\n",
       "    }\n",
       "\n",
       "    .dataframe tbody tr th {\n",
       "        vertical-align: top;\n",
       "    }\n",
       "\n",
       "    .dataframe thead th {\n",
       "        text-align: right;\n",
       "    }\n",
       "</style>\n",
       "<table border=\"1\" class=\"dataframe\">\n",
       "  <thead>\n",
       "    <tr style=\"text-align: right;\">\n",
       "      <th></th>\n",
       "      <th>token_length</th>\n",
       "    </tr>\n",
       "  </thead>\n",
       "  <tbody>\n",
       "    <tr>\n",
       "      <th>count</th>\n",
       "      <td>162696.000000</td>\n",
       "    </tr>\n",
       "    <tr>\n",
       "      <th>mean</th>\n",
       "      <td>2319.382837</td>\n",
       "    </tr>\n",
       "    <tr>\n",
       "      <th>std</th>\n",
       "      <td>942.058774</td>\n",
       "    </tr>\n",
       "    <tr>\n",
       "      <th>min</th>\n",
       "      <td>512.000000</td>\n",
       "    </tr>\n",
       "    <tr>\n",
       "      <th>25%</th>\n",
       "      <td>1543.000000</td>\n",
       "    </tr>\n",
       "    <tr>\n",
       "      <th>50%</th>\n",
       "      <td>2278.000000</td>\n",
       "    </tr>\n",
       "    <tr>\n",
       "      <th>75%</th>\n",
       "      <td>3088.000000</td>\n",
       "    </tr>\n",
       "    <tr>\n",
       "      <th>max</th>\n",
       "      <td>4094.000000</td>\n",
       "    </tr>\n",
       "  </tbody>\n",
       "</table>\n",
       "</div>"
      ],
      "text/plain": [
       "        token_length\n",
       "count  162696.000000\n",
       "mean     2319.382837\n",
       "std       942.058774\n",
       "min       512.000000\n",
       "25%      1543.000000\n",
       "50%      2278.000000\n",
       "75%      3088.000000\n",
       "max      4094.000000"
      ]
     },
     "execution_count": 52,
     "metadata": {},
     "output_type": "execute_result"
    }
   ],
   "source": [
    "df.describe()"
   ]
  },
  {
   "cell_type": "code",
   "execution_count": 54,
   "metadata": {},
   "outputs": [
    {
     "data": {
      "text/plain": [
       "<AxesSubplot:xlabel='token_length', ylabel='Count'>"
      ]
     },
     "execution_count": 54,
     "metadata": {},
     "output_type": "execute_result"
    },
    {
     "data": {
      "image/png": "[encoded data removed]",
      "text/plain": [
       "<Figure size 432x288 with 1 Axes>"
      ]
     },
     "metadata": {},
     "output_type": "display_data"
    }
   ],
   "source": [
    "# Histogram of token_length value\n",
    "sns.histplot(data=df, x='token_length', binwidth=100, kde=True)"
   ]
  },
  {
   "cell_type": "code",
   "execution_count": 55,
   "metadata": {},
   "outputs": [
    {
     "data": {
      "text/plain": [
       "<seaborn.axisgrid.FacetGrid at 0x7f6bc8d33410>"
      ]
     },
     "execution_count": 55,
     "metadata": {},
     "output_type": "execute_result"
    },
    {
     "data": {
      "image/png": "[encoded data removed]",
      "text/plain": [
       "<Figure size 360x360 with 1 Axes>"
      ]
     },
     "metadata": {},
     "output_type": "display_data"
    }
   ],
   "source": [
    "# Perpectly balanced data.\n",
    "sns.catplot(data=df, x=\"label\", kind=\"count\", order=config.labels_list)"
   ]
  },
  {
   "cell_type": "code",
   "execution_count": 56,
   "metadata": {},
   "outputs": [
    {
     "name": "stdout",
     "output_type": "stream",
     "text": [
      "Mean token length of label A is 2245\n",
      "Mean token length of label B is 2251\n",
      "Mean token length of label C is 2343\n",
      "Mean token length of label D is 2256\n",
      "Mean token length of label E is 2238\n",
      "Mean token length of label F is 2242\n",
      "Mean token length of label G is 2528\n",
      "Mean token length of label H is 2453\n"
     ]
    }
   ],
   "source": [
    "# Mean token lengths of patents grouped by labels.\n",
    "\n",
    "mean_list = []\n",
    "for label in config.labels_list:\n",
    "    mean = round(df[df['label']== label]['token_length'].mean()) \n",
    "    mean_list.append(mean)\n",
    "    print(\"Mean token length of label {} is {}\".format(label, mean))"
   ]
  },
  {
   "cell_type": "code",
   "execution_count": 57,
   "metadata": {},
   "outputs": [
    {
     "data": {
      "text/plain": [
       "<seaborn.axisgrid.FacetGrid at 0x7f6b339099d0>"
      ]
     },
     "execution_count": 57,
     "metadata": {},
     "output_type": "execute_result"
    },
    {
     "data": {
      "image/png": "[encoded data removed]",
      "text/plain": [
       "<Figure size 360x360 with 1 Axes>"
      ]
     },
     "metadata": {},
     "output_type": "display_data"
    }
   ],
   "source": [
    "# The table of mean token lengths of patents grouped by labels.\n",
    "\n",
    "mean_table = pd.DataFrame(data={\"label\":config.labels_list, \"mean_len\":mean_list})\n",
    "sns.catplot(data=mean_table, x='label', y='mean_len', kind='bar')"
   ]
  },
  {
   "cell_type": "code",
   "execution_count": 58,
   "metadata": {},
   "outputs": [
    {
     "name": "stdout",
     "output_type": "stream",
     "text": [
      "Label: A\n",
      "       token_length\n",
      "count  20339.000000\n",
      "mean    2245.010767\n",
      "std      949.598381\n",
      "min      512.000000\n",
      "25%     1456.000000\n",
      "50%     2164.000000\n",
      "75%     3019.000000\n",
      "max     4094.000000\n",
      "-----------------------------------\n",
      "Label: B\n",
      "       token_length\n",
      "count  20339.000000\n",
      "mean    2250.629185\n",
      "std      928.423290\n",
      "min      512.000000\n",
      "25%     1492.000000\n",
      "50%     2184.000000\n",
      "75%     2983.000000\n",
      "max     4094.000000\n",
      "-----------------------------------\n",
      "Label: C\n",
      "       token_length\n",
      "count  20339.000000\n",
      "mean    2342.887949\n",
      "std      971.514297\n",
      "min      512.000000\n",
      "25%     1538.500000\n",
      "50%     2331.000000\n",
      "75%     3153.000000\n",
      "max     4094.000000\n",
      "-----------------------------------\n",
      "Label: D\n",
      "       token_length\n",
      "count  20323.000000\n",
      "mean    2256.207991\n",
      "std      940.469631\n",
      "min      512.000000\n",
      "25%     1482.500000\n",
      "50%     2195.000000\n",
      "75%     3011.500000\n",
      "max     4094.000000\n",
      "-----------------------------------\n",
      "Label: E\n",
      "       token_length\n",
      "count  20339.000000\n",
      "mean    2237.576675\n",
      "std      925.085266\n",
      "min      513.000000\n",
      "25%     1478.000000\n",
      "50%     2163.000000\n",
      "75%     2967.000000\n",
      "max     4094.000000\n",
      "-----------------------------------\n",
      "Label: F\n",
      "       token_length\n",
      "count  20339.000000\n",
      "mean    2241.739859\n",
      "std      925.820835\n",
      "min      512.000000\n",
      "25%     1482.500000\n",
      "50%     2180.000000\n",
      "75%     2966.000000\n",
      "max     4094.000000\n",
      "-----------------------------------\n",
      "Label: G\n",
      "       token_length\n",
      "count  20339.000000\n",
      "mean    2527.925611\n",
      "std      925.962021\n",
      "min      513.000000\n",
      "25%     1789.000000\n",
      "50%     2566.000000\n",
      "75%     3306.000000\n",
      "max     4094.000000\n",
      "-----------------------------------\n",
      "Label: H\n",
      "       token_length\n",
      "count  20339.000000\n",
      "mean    2453.034957\n",
      "std      921.336848\n",
      "min      512.000000\n",
      "25%     1710.500000\n",
      "50%     2462.000000\n",
      "75%     3215.000000\n",
      "max     4094.000000\n",
      "-----------------------------------\n"
     ]
    }
   ],
   "source": [
    "# Finally see the describe values for each label separately.\n",
    "for label in config.labels_list:\n",
    "    print(\"Label: {}\".format(label))\n",
    "    print(df[df['label']== label].describe())\n",
    "    print(\"-----------------------------------\")"
   ]
  },
  {
   "cell_type": "markdown",
   "metadata": {},
   "source": [
    "# Vocab Analysis"
   ]
  },
  {
   "cell_type": "code",
   "execution_count": 2,
   "metadata": {},
   "outputs": [],
   "source": [
    "vocab = pd.read_csv(os.path.join('../',config.data_dir, 'meta/vocab.csv'))"
   ]
  },
  {
   "cell_type": "code",
   "execution_count": 6,
   "metadata": {},
   "outputs": [
    {
     "name": "stdout",
     "output_type": "stream",
     "text": [
      "<class 'pandas.core.frame.DataFrame'>\n",
      "RangeIndex: 8207617 entries, 0 to 8207616\n",
      "Data columns (total 2 columns):\n",
      " #   Column  Dtype \n",
      "---  ------  ----- \n",
      " 0   word    object\n",
      " 1   freq    int64 \n",
      "dtypes: int64(1), object(1)\n",
      "memory usage: 125.2+ MB\n"
     ]
    }
   ],
   "source": [
    "vocab.info()"
   ]
  },
  {
   "cell_type": "code",
   "execution_count": 7,
   "metadata": {},
   "outputs": [
    {
     "data": {
      "text/html": [
       "<div>\n",
       "<style scoped>\n",
       "    .dataframe tbody tr th:only-of-type {\n",
       "        vertical-align: middle;\n",
       "    }\n",
       "\n",
       "    .dataframe tbody tr th {\n",
       "        vertical-align: top;\n",
       "    }\n",
       "\n",
       "    .dataframe thead th {\n",
       "        text-align: right;\n",
       "    }\n",
       "</style>\n",
       "<table border=\"1\" class=\"dataframe\">\n",
       "  <thead>\n",
       "    <tr style=\"text-align: right;\">\n",
       "      <th></th>\n",
       "      <th>freq</th>\n",
       "    </tr>\n",
       "  </thead>\n",
       "  <tbody>\n",
       "    <tr>\n",
       "      <th>count</th>\n",
       "      <td>8.207617e+06</td>\n",
       "    </tr>\n",
       "    <tr>\n",
       "      <th>mean</th>\n",
       "      <td>5.363644e+01</td>\n",
       "    </tr>\n",
       "    <tr>\n",
       "      <th>std</th>\n",
       "      <td>1.627207e+04</td>\n",
       "    </tr>\n",
       "    <tr>\n",
       "      <th>min</th>\n",
       "      <td>1.000000e+00</td>\n",
       "    </tr>\n",
       "    <tr>\n",
       "      <th>25%</th>\n",
       "      <td>1.000000e+00</td>\n",
       "    </tr>\n",
       "    <tr>\n",
       "      <th>50%</th>\n",
       "      <td>1.000000e+00</td>\n",
       "    </tr>\n",
       "    <tr>\n",
       "      <th>75%</th>\n",
       "      <td>2.000000e+00</td>\n",
       "    </tr>\n",
       "    <tr>\n",
       "      <th>max</th>\n",
       "      <td>3.605948e+07</td>\n",
       "    </tr>\n",
       "  </tbody>\n",
       "</table>\n",
       "</div>"
      ],
      "text/plain": [
       "               freq\n",
       "count  8.207617e+06\n",
       "mean   5.363644e+01\n",
       "std    1.627207e+04\n",
       "min    1.000000e+00\n",
       "25%    1.000000e+00\n",
       "50%    1.000000e+00\n",
       "75%    2.000000e+00\n",
       "max    3.605948e+07"
      ]
     },
     "execution_count": 7,
     "metadata": {},
     "output_type": "execute_result"
    }
   ],
   "source": [
    "vocab.describe()"
   ]
  },
  {
   "cell_type": "code",
   "execution_count": 12,
   "metadata": {},
   "outputs": [
    {
     "data": {
      "text/html": [
       "<div>\n",
       "<style scoped>\n",
       "    .dataframe tbody tr th:only-of-type {\n",
       "        vertical-align: middle;\n",
       "    }\n",
       "\n",
       "    .dataframe tbody tr th {\n",
       "        vertical-align: top;\n",
       "    }\n",
       "\n",
       "    .dataframe thead th {\n",
       "        text-align: right;\n",
       "    }\n",
       "</style>\n",
       "<table border=\"1\" class=\"dataframe\">\n",
       "  <thead>\n",
       "    <tr style=\"text-align: right;\">\n",
       "      <th></th>\n",
       "      <th>word</th>\n",
       "      <th>freq</th>\n",
       "    </tr>\n",
       "  </thead>\n",
       "  <tbody>\n",
       "    <tr>\n",
       "      <th>1</th>\n",
       "      <td>the</td>\n",
       "      <td>36059476</td>\n",
       "    </tr>\n",
       "    <tr>\n",
       "      <th>37</th>\n",
       "      <td>of</td>\n",
       "      <td>16204806</td>\n",
       "    </tr>\n",
       "    <tr>\n",
       "      <th>32</th>\n",
       "      <td>a</td>\n",
       "      <td>11521326</td>\n",
       "    </tr>\n",
       "    <tr>\n",
       "      <th>19</th>\n",
       "      <td>to</td>\n",
       "      <td>10061354</td>\n",
       "    </tr>\n",
       "    <tr>\n",
       "      <th>60</th>\n",
       "      <td>and</td>\n",
       "      <td>9768397</td>\n",
       "    </tr>\n",
       "    <tr>\n",
       "      <th>...</th>\n",
       "      <td>...</td>\n",
       "      <td>...</td>\n",
       "    </tr>\n",
       "    <tr>\n",
       "      <th>3743178</th>\n",
       "      <td>part79,</td>\n",
       "      <td>1</td>\n",
       "    </tr>\n",
       "    <tr>\n",
       "      <th>3743177</th>\n",
       "      <td>part79moves</td>\n",
       "      <td>1</td>\n",
       "    </tr>\n",
       "    <tr>\n",
       "      <th>3743176</th>\n",
       "      <td>faces71and71′.</td>\n",
       "      <td>1</td>\n",
       "    </tr>\n",
       "    <tr>\n",
       "      <th>3743175</th>\n",
       "      <td>faces71and71′</td>\n",
       "      <td>1</td>\n",
       "    </tr>\n",
       "    <tr>\n",
       "      <th>8207616</th>\n",
       "      <td>germanosilicidation),</td>\n",
       "      <td>1</td>\n",
       "    </tr>\n",
       "  </tbody>\n",
       "</table>\n",
       "<p>8207617 rows × 2 columns</p>\n",
       "</div>"
      ],
      "text/plain": [
       "                          word      freq\n",
       "1                          the  36059476\n",
       "37                          of  16204806\n",
       "32                           a  11521326\n",
       "19                          to  10061354\n",
       "60                         and   9768397\n",
       "...                        ...       ...\n",
       "3743178                part79,         1\n",
       "3743177            part79moves         1\n",
       "3743176         faces71and71′.         1\n",
       "3743175          faces71and71′         1\n",
       "8207616  germanosilicidation),         1\n",
       "\n",
       "[8207617 rows x 2 columns]"
      ]
     },
     "execution_count": 12,
     "metadata": {},
     "output_type": "execute_result"
    }
   ],
   "source": [
    "vocab.sort_values(by='freq', ascending=False)"
   ]
  },
  {
   "cell_type": "code",
   "execution_count": 20,
   "metadata": {},
   "outputs": [],
   "source": [
    "trimmed_vocab = vocab[vocab['freq']>2]"
   ]
  },
  {
   "cell_type": "code",
   "execution_count": 21,
   "metadata": {},
   "outputs": [
    {
     "name": "stdout",
     "output_type": "stream",
     "text": [
      "<class 'pandas.core.frame.DataFrame'>\n",
      "Int64Index: 1650778 entries, 0 to 8207598\n",
      "Data columns (total 2 columns):\n",
      " #   Column  Non-Null Count    Dtype \n",
      "---  ------  --------------    ----- \n",
      " 0   word    1650772 non-null  object\n",
      " 1   freq    1650778 non-null  int64 \n",
      "dtypes: int64(1), object(1)\n",
      "memory usage: 37.8+ MB\n"
     ]
    }
   ],
   "source": [
    "trimmed_vocab.info()"
   ]
  },
  {
   "cell_type": "code",
   "execution_count": 22,
   "metadata": {},
   "outputs": [
    {
     "data": {
      "text/html": [
       "<div>\n",
       "<style scoped>\n",
       "    .dataframe tbody tr th:only-of-type {\n",
       "        vertical-align: middle;\n",
       "    }\n",
       "\n",
       "    .dataframe tbody tr th {\n",
       "        vertical-align: top;\n",
       "    }\n",
       "\n",
       "    .dataframe thead th {\n",
       "        text-align: right;\n",
       "    }\n",
       "</style>\n",
       "<table border=\"1\" class=\"dataframe\">\n",
       "  <thead>\n",
       "    <tr style=\"text-align: right;\">\n",
       "      <th></th>\n",
       "      <th>freq</th>\n",
       "    </tr>\n",
       "  </thead>\n",
       "  <tbody>\n",
       "    <tr>\n",
       "      <th>count</th>\n",
       "      <td>1.650778e+06</td>\n",
       "    </tr>\n",
       "    <tr>\n",
       "      <th>mean</th>\n",
       "      <td>2.620151e+02</td>\n",
       "    </tr>\n",
       "    <tr>\n",
       "      <th>std</th>\n",
       "      <td>3.628259e+04</td>\n",
       "    </tr>\n",
       "    <tr>\n",
       "      <th>min</th>\n",
       "      <td>3.000000e+00</td>\n",
       "    </tr>\n",
       "    <tr>\n",
       "      <th>25%</th>\n",
       "      <td>3.000000e+00</td>\n",
       "    </tr>\n",
       "    <tr>\n",
       "      <th>50%</th>\n",
       "      <td>5.000000e+00</td>\n",
       "    </tr>\n",
       "    <tr>\n",
       "      <th>75%</th>\n",
       "      <td>1.200000e+01</td>\n",
       "    </tr>\n",
       "    <tr>\n",
       "      <th>max</th>\n",
       "      <td>3.605948e+07</td>\n",
       "    </tr>\n",
       "  </tbody>\n",
       "</table>\n",
       "</div>"
      ],
      "text/plain": [
       "               freq\n",
       "count  1.650778e+06\n",
       "mean   2.620151e+02\n",
       "std    3.628259e+04\n",
       "min    3.000000e+00\n",
       "25%    3.000000e+00\n",
       "50%    5.000000e+00\n",
       "75%    1.200000e+01\n",
       "max    3.605948e+07"
      ]
     },
     "execution_count": 22,
     "metadata": {},
     "output_type": "execute_result"
    }
   ],
   "source": [
    "trimmed_vocab.describe()"
   ]
  },
  {
   "cell_type": "code",
   "execution_count": 24,
   "metadata": {},
   "outputs": [
    {
     "data": {
      "text/plain": [
       "<AxesSubplot:xlabel='freq', ylabel='Count'>"
      ]
     },
     "execution_count": 24,
     "metadata": {},
     "output_type": "execute_result"
    },
    {
     "data": {
      "image/png": "[encoded data removed]",
      "text/plain": [
       "<Figure size 432x288 with 1 Axes>"
      ]
     },
     "metadata": {},
     "output_type": "display_data"
    }
   ],
   "source": [
    "sns.histplot(data=trimmed_vocab[:10], x='freq', binwidth=1)"
   ]
  },
  {
   "cell_type": "code",
   "execution_count": null,
   "metadata": {},
   "outputs": [],
   "source": []
  }
 ],
 "metadata": {
  "interpreter": {
   "hash": "d423be8e5dd5e2441a242ca4cbbadda2df0f98772995e93bb940e45ce53c6d2c"
  },
  "kernelspec": {
   "display_name": "Python 3.7.11 ('data_manager')",
   "language": "python",
   "name": "python3"
  },
  "language_info": {
   "codemirror_mode": {
    "name": "ipython",
    "version": 3
   },
   "file_extension": ".py",
   "mimetype": "text/x-python",
   "name": "python",
   "nbconvert_exporter": "python",
   "pygments_lexer": "ipython3",
   "version": "3.7.11"
  },
  "orig_nbformat": 4
 },
 "nbformat": 4,
 "nbformat_minor": 2
}
