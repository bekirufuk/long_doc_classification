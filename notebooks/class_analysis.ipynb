{
 "cells": [
  {
   "cell_type": "code",
   "execution_count": 1,
   "id": "aba9fa87",
   "metadata": {},
   "outputs": [],
   "source": [
    "from glob import glob\n",
    "import pandas as pd"
   ]
  },
  {
   "cell_type": "code",
   "execution_count": 2,
   "id": "cd8d9d34",
   "metadata": {},
   "outputs": [],
   "source": [
    "file_dirs = glob('../data/refined_patents/chunks/*.csv')"
   ]
  },
  {
   "cell_type": "code",
   "execution_count": 4,
   "id": "1556824f",
   "metadata": {},
   "outputs": [
    {
     "name": "stdout",
     "output_type": "stream",
     "text": [
      "['K' 'F' 'T']\n",
      "['F' 'K' 'T']\n",
      "['T' 'F' 'K']\n",
      "['F' 'G' 'K' 'T']\n",
      "['F' 'K' 'T' 'N']\n",
      "['F' 'K' 'T']\n",
      "['K' 'F' 'G' 'X']\n",
      "['F' 'G' 'K']\n",
      "['F' 'T' 'K' 'G' 'C']\n",
      "['F' 'K']\n",
      "['K' 'F' 'T' 'G']\n",
      "['T' 'F' 'K']\n",
      "['F' 'G' 'K' 'T']\n",
      "['F' 'G' 'N' 'K']\n",
      "['F' 'K' 'R' 'T']\n",
      "['K' 'C' 'F']\n",
      "['T' 'F' 'G' 'K']\n",
      "['K' 'F' 'T']\n",
      "['F' 'K' 'T' 'G']\n",
      "['F' 'K' 'T']\n",
      "['F' 'K' 'T' 'G']\n",
      "['K' 'F' 'M' 'T']\n"
     ]
    }
   ],
   "source": [
    "i = 0\n",
    "for file_dir in file_dirs:\n",
    "    df = pd.read_csv(file_dir)\n",
    "    df = df[(df['labels'] == 6) & (df['ipc_class'] == 6)].reset_index(drop=True)\n",
    "    print(df['subclass'].unique())\n",
    "    if i > 20:\n",
    "        break\n",
    "    i+=1"
   ]
  },
  {
   "cell_type": "code",
   "execution_count": 6,
   "id": "d22aeefc",
   "metadata": {},
   "outputs": [],
   "source": [
    "df = pd.concat(map(pd.read_csv, file_dirs))"
   ]
  },
  {
   "cell_type": "code",
   "execution_count": 9,
   "id": "1eafa5d8",
   "metadata": {},
   "outputs": [
    {
     "data": {
      "text/plain": [
       "labels\n",
       "0    16109\n",
       "1    16109\n",
       "6    16109\n",
       "7    16109\n",
       "2    16108\n",
       "4    16108\n",
       "5    16108\n",
       "3    16091\n",
       "Name: count, dtype: int64"
      ]
     },
     "execution_count": 9,
     "metadata": {},
     "output_type": "execute_result"
    }
   ],
   "source": [
    "df['labels'].value_counts()"
   ]
  },
  {
   "cell_type": "code",
   "execution_count": 21,
   "id": "227d87d7",
   "metadata": {},
   "outputs": [
    {
     "name": "stdout",
     "output_type": "stream",
     "text": [
      "['K' 'B' 'H' 'L' 'N' 'J' 'M' 'D' 'G' 'F' 'C' 'P' 'Q' 'R' 'T' 'S' 'A' 'V'\n",
      " 'U' 'W' 'E' 'X' 'O' 'Y' 'I']\n"
     ]
    }
   ],
   "source": [
    "df_g = df[(df['labels'] == 6)].reset_index(drop=True)\n",
    "print(df['subclass'].unique())"
   ]
  },
  {
   "cell_type": "code",
   "execution_count": 22,
   "id": "efd16e08",
   "metadata": {},
   "outputs": [
    {
     "data": {
      "text/plain": [
       "F    5650\n",
       "B    3211\n",
       "C    1196\n",
       "G    1060\n",
       "N    1017\n",
       "K     919\n",
       "R     743\n",
       "D     396\n",
       "L     330\n",
       "T     320\n",
       "Q     271\n",
       "S     270\n",
       "V     203\n",
       "J     174\n",
       "M     158\n",
       "H     102\n",
       "P      74\n",
       "W      10\n",
       "E       2\n",
       "X       1\n",
       "U       1\n",
       "Y       1\n",
       "Name: subclass, dtype: int64"
      ]
     },
     "execution_count": 22,
     "metadata": {},
     "output_type": "execute_result"
    }
   ],
   "source": [
    "df_g['subclass'].value_counts()"
   ]
  },
  {
   "cell_type": "code",
   "execution_count": 16,
   "id": "c6301318",
   "metadata": {},
   "outputs": [
    {
     "name": "stdout",
     "output_type": "stream",
     "text": [
      "['K' 'B' 'H' 'L' 'N' 'J' 'M' 'D' 'G' 'F' 'C' 'P' 'Q' 'R' 'T' 'S' 'A' 'V'\n",
      " 'U' 'W' 'E' 'X' 'O' 'Y' 'I']\n"
     ]
    }
   ],
   "source": [
    "df_g = df[(df['labels'] == 6) & (df['ipc_class'] == 6)].reset_index(drop=True)"
   ]
  },
  {
   "cell_type": "code",
   "execution_count": 20,
   "id": "7403f50d",
   "metadata": {},
   "outputs": [
    {
     "data": {
      "text/plain": [
       "F    4263\n",
       "K     746\n",
       "Q     265\n",
       "T     242\n",
       "N      56\n",
       "G      49\n",
       "V       9\n",
       "M       6\n",
       "C       2\n",
       "R       2\n",
       "D       2\n",
       "X       1\n",
       "E       1\n",
       "Name: subclass, dtype: int64"
      ]
     },
     "execution_count": 20,
     "metadata": {},
     "output_type": "execute_result"
    }
   ],
   "source": [
    "df_g['subclass'].value_counts()"
   ]
  },
  {
   "cell_type": "code",
   "execution_count": 1,
   "id": "11b7874c",
   "metadata": {},
   "outputs": [],
   "source": [
    "# Class Data Creator"
   ]
  },
  {
   "cell_type": "code",
   "execution_count": 2,
   "id": "5f66ab41",
   "metadata": {},
   "outputs": [],
   "source": [
    "file_dirs = glob('../data/refined_patents/chunks/*.csv')"
   ]
  },
  {
   "cell_type": "code",
   "execution_count": 3,
   "id": "8876661f",
   "metadata": {},
   "outputs": [],
   "source": [
    "df = pd.concat(map(pd.read_csv, file_dirs))"
   ]
  },
  {
   "cell_type": "code",
   "execution_count": 4,
   "id": "297bdd2c",
   "metadata": {},
   "outputs": [],
   "source": [
    "df_g6 = df[(df['labels'] == 6) & (df['ipc_class'] == 6)].reset_index(drop=True)"
   ]
  },
  {
   "cell_type": "code",
   "execution_count": 10,
   "id": "3cb3abe6",
   "metadata": {},
   "outputs": [],
   "source": [
    "df_g = df[(df['labels'] == 6)].reset_index(drop=True)"
   ]
  },
  {
   "cell_type": "code",
   "execution_count": 12,
   "id": "90c2cf36",
   "metadata": {},
   "outputs": [
    {
     "data": {
      "text/html": [
       "<div>\n",
       "<style scoped>\n",
       "    .dataframe tbody tr th:only-of-type {\n",
       "        vertical-align: middle;\n",
       "    }\n",
       "\n",
       "    .dataframe tbody tr th {\n",
       "        vertical-align: top;\n",
       "    }\n",
       "\n",
       "    .dataframe thead th {\n",
       "        text-align: right;\n",
       "    }\n",
       "</style>\n",
       "<table border=\"1\" class=\"dataframe\">\n",
       "  <thead>\n",
       "    <tr style=\"text-align: right;\">\n",
       "      <th></th>\n",
       "      <th>patent_id</th>\n",
       "      <th>text</th>\n",
       "      <th>labels</th>\n",
       "      <th>ipc_class</th>\n",
       "      <th>subclass</th>\n",
       "      <th>word_counts</th>\n",
       "    </tr>\n",
       "  </thead>\n",
       "  <tbody>\n",
       "    <tr>\n",
       "      <th>0</th>\n",
       "      <td>6027859</td>\n",
       "      <td>While the invention is amenable to various mod...</td>\n",
       "      <td>6</td>\n",
       "      <td>3</td>\n",
       "      <td>F</td>\n",
       "      <td>2785</td>\n",
       "    </tr>\n",
       "    <tr>\n",
       "      <th>1</th>\n",
       "      <td>6024498</td>\n",
       "      <td>DETAILED DESCRIPTION \\nFIG. 1 is a plan view o...</td>\n",
       "      <td>6</td>\n",
       "      <td>2</td>\n",
       "      <td>B</td>\n",
       "      <td>3228</td>\n",
       "    </tr>\n",
       "    <tr>\n",
       "      <th>2</th>\n",
       "      <td>6021245</td>\n",
       "      <td>DETAILED DESCRIPTION \\nThe figures represent o...</td>\n",
       "      <td>6</td>\n",
       "      <td>2</td>\n",
       "      <td>B</td>\n",
       "      <td>1196</td>\n",
       "    </tr>\n",
       "    <tr>\n",
       "      <th>3</th>\n",
       "      <td>6029359</td>\n",
       "      <td>DETAILED DESCRIPTION OF A PREFERRED EMBODIMENT...</td>\n",
       "      <td>6</td>\n",
       "      <td>1</td>\n",
       "      <td>C</td>\n",
       "      <td>698</td>\n",
       "    </tr>\n",
       "    <tr>\n",
       "      <th>4</th>\n",
       "      <td>6011657</td>\n",
       "      <td>DETAILED DESCRIPTION OF THE INVENTION \\nThe in...</td>\n",
       "      <td>6</td>\n",
       "      <td>2</td>\n",
       "      <td>B</td>\n",
       "      <td>1977</td>\n",
       "    </tr>\n",
       "    <tr>\n",
       "      <th>...</th>\n",
       "      <td>...</td>\n",
       "      <td>...</td>\n",
       "      <td>...</td>\n",
       "      <td>...</td>\n",
       "      <td>...</td>\n",
       "      <td>...</td>\n",
       "    </tr>\n",
       "    <tr>\n",
       "      <th>16104</th>\n",
       "      <td>9614940</td>\n",
       "      <td>DESCRIPTION OF EMBODIMENTS\\n\\nThe following cl...</td>\n",
       "      <td>6</td>\n",
       "      <td>6</td>\n",
       "      <td>F</td>\n",
       "      <td>1999</td>\n",
       "    </tr>\n",
       "    <tr>\n",
       "      <th>16105</th>\n",
       "      <td>9632156</td>\n",
       "      <td>DETAILED DESCRIPTION OF EXEMPLARY EMBODIMENTS\\...</td>\n",
       "      <td>6</td>\n",
       "      <td>1</td>\n",
       "      <td>R</td>\n",
       "      <td>2588</td>\n",
       "    </tr>\n",
       "    <tr>\n",
       "      <th>16106</th>\n",
       "      <td>9613700</td>\n",
       "      <td>DETAILED DESCRIPTION OF THE EMBODIMENTS\\n\\nIn ...</td>\n",
       "      <td>6</td>\n",
       "      <td>11</td>\n",
       "      <td>C</td>\n",
       "      <td>2967</td>\n",
       "    </tr>\n",
       "    <tr>\n",
       "      <th>16107</th>\n",
       "      <td>9625488</td>\n",
       "      <td>DESCRIPTION OF NUMERALS\\n\\n1First substrate st...</td>\n",
       "      <td>6</td>\n",
       "      <td>1</td>\n",
       "      <td>P</td>\n",
       "      <td>1737</td>\n",
       "    </tr>\n",
       "    <tr>\n",
       "      <th>16108</th>\n",
       "      <td>9625274</td>\n",
       "      <td>DETAILED DESCRIPTION OF THE EMBODIMENTS OF THE...</td>\n",
       "      <td>6</td>\n",
       "      <td>5</td>\n",
       "      <td>D</td>\n",
       "      <td>3656</td>\n",
       "    </tr>\n",
       "  </tbody>\n",
       "</table>\n",
       "<p>16109 rows × 6 columns</p>\n",
       "</div>"
      ],
      "text/plain": [
       "      patent_id                                               text  labels   \n",
       "0       6027859  While the invention is amenable to various mod...       6  \\\n",
       "1       6024498  DETAILED DESCRIPTION \\nFIG. 1 is a plan view o...       6   \n",
       "2       6021245  DETAILED DESCRIPTION \\nThe figures represent o...       6   \n",
       "3       6029359  DETAILED DESCRIPTION OF A PREFERRED EMBODIMENT...       6   \n",
       "4       6011657  DETAILED DESCRIPTION OF THE INVENTION \\nThe in...       6   \n",
       "...         ...                                                ...     ...   \n",
       "16104   9614940  DESCRIPTION OF EMBODIMENTS\\n\\nThe following cl...       6   \n",
       "16105   9632156  DETAILED DESCRIPTION OF EXEMPLARY EMBODIMENTS\\...       6   \n",
       "16106   9613700  DETAILED DESCRIPTION OF THE EMBODIMENTS\\n\\nIn ...       6   \n",
       "16107   9625488  DESCRIPTION OF NUMERALS\\n\\n1First substrate st...       6   \n",
       "16108   9625274  DETAILED DESCRIPTION OF THE EMBODIMENTS OF THE...       6   \n",
       "\n",
       "       ipc_class subclass  word_counts  \n",
       "0              3        F         2785  \n",
       "1              2        B         3228  \n",
       "2              2        B         1196  \n",
       "3              1        C          698  \n",
       "4              2        B         1977  \n",
       "...          ...      ...          ...  \n",
       "16104          6        F         1999  \n",
       "16105          1        R         2588  \n",
       "16106         11        C         2967  \n",
       "16107          1        P         1737  \n",
       "16108          5        D         3656  \n",
       "\n",
       "[16109 rows x 6 columns]"
      ]
     },
     "execution_count": 12,
     "metadata": {},
     "output_type": "execute_result"
    }
   ],
   "source": [
    "df_g"
   ]
  },
  {
   "cell_type": "code",
   "execution_count": 13,
   "id": "0f60b705",
   "metadata": {},
   "outputs": [
    {
     "data": {
      "text/plain": [
       "ipc_class\n",
       "6     5644\n",
       "1     3830\n",
       "2     1747\n",
       "11    1377\n",
       "3      883\n",
       "9      794\n",
       "5      664\n",
       "8      442\n",
       "10     317\n",
       "7      139\n",
       "21     135\n",
       "4       96\n",
       "16      27\n",
       "12       8\n",
       "60       2\n",
       "0        2\n",
       "41       1\n",
       "66       1\n",
       "Name: count, dtype: int64"
      ]
     },
     "execution_count": 13,
     "metadata": {},
     "output_type": "execute_result"
    }
   ],
   "source": [
    "df_g['ipc_class'].value_counts()"
   ]
  },
  {
   "cell_type": "code",
   "execution_count": 15,
   "id": "0674e8fb",
   "metadata": {},
   "outputs": [],
   "source": [
    "df_g_refined = df_g[df_g['ipc_class'].isin([1, 2, 3, 4, 5, 6, 7, 8, 9, 10, 11, 21])].reset_index(drop=True)"
   ]
  },
  {
   "cell_type": "code",
   "execution_count": 17,
   "id": "8dbbc115",
   "metadata": {},
   "outputs": [
    {
     "data": {
      "text/plain": [
       "ipc_class\n",
       "6     5644\n",
       "1     3830\n",
       "2     1747\n",
       "11    1377\n",
       "3      883\n",
       "9      794\n",
       "5      664\n",
       "8      442\n",
       "10     317\n",
       "7      139\n",
       "21     135\n",
       "4       96\n",
       "Name: count, dtype: int64"
      ]
     },
     "execution_count": 17,
     "metadata": {},
     "output_type": "execute_result"
    }
   ],
   "source": [
    "df_g_refined['ipc_class'].value_counts()"
   ]
  },
  {
   "cell_type": "code",
   "execution_count": 18,
   "id": "8a1dbe38",
   "metadata": {},
   "outputs": [
    {
     "data": {
      "text/html": [
       "<div>\n",
       "<style scoped>\n",
       "    .dataframe tbody tr th:only-of-type {\n",
       "        vertical-align: middle;\n",
       "    }\n",
       "\n",
       "    .dataframe tbody tr th {\n",
       "        vertical-align: top;\n",
       "    }\n",
       "\n",
       "    .dataframe thead th {\n",
       "        text-align: right;\n",
       "    }\n",
       "</style>\n",
       "<table border=\"1\" class=\"dataframe\">\n",
       "  <thead>\n",
       "    <tr style=\"text-align: right;\">\n",
       "      <th></th>\n",
       "      <th>patent_id</th>\n",
       "      <th>text</th>\n",
       "      <th>labels</th>\n",
       "      <th>ipc_class</th>\n",
       "      <th>subclass</th>\n",
       "      <th>word_counts</th>\n",
       "    </tr>\n",
       "  </thead>\n",
       "  <tbody>\n",
       "    <tr>\n",
       "      <th>0</th>\n",
       "      <td>6027859</td>\n",
       "      <td>While the invention is amenable to various mod...</td>\n",
       "      <td>6</td>\n",
       "      <td>3</td>\n",
       "      <td>F</td>\n",
       "      <td>2785</td>\n",
       "    </tr>\n",
       "    <tr>\n",
       "      <th>1</th>\n",
       "      <td>6024498</td>\n",
       "      <td>DETAILED DESCRIPTION \\nFIG. 1 is a plan view o...</td>\n",
       "      <td>6</td>\n",
       "      <td>2</td>\n",
       "      <td>B</td>\n",
       "      <td>3228</td>\n",
       "    </tr>\n",
       "    <tr>\n",
       "      <th>2</th>\n",
       "      <td>6021245</td>\n",
       "      <td>DETAILED DESCRIPTION \\nThe figures represent o...</td>\n",
       "      <td>6</td>\n",
       "      <td>2</td>\n",
       "      <td>B</td>\n",
       "      <td>1196</td>\n",
       "    </tr>\n",
       "    <tr>\n",
       "      <th>3</th>\n",
       "      <td>6029359</td>\n",
       "      <td>DETAILED DESCRIPTION OF A PREFERRED EMBODIMENT...</td>\n",
       "      <td>6</td>\n",
       "      <td>1</td>\n",
       "      <td>C</td>\n",
       "      <td>698</td>\n",
       "    </tr>\n",
       "    <tr>\n",
       "      <th>4</th>\n",
       "      <td>6011657</td>\n",
       "      <td>DETAILED DESCRIPTION OF THE INVENTION \\nThe in...</td>\n",
       "      <td>6</td>\n",
       "      <td>2</td>\n",
       "      <td>B</td>\n",
       "      <td>1977</td>\n",
       "    </tr>\n",
       "    <tr>\n",
       "      <th>...</th>\n",
       "      <td>...</td>\n",
       "      <td>...</td>\n",
       "      <td>...</td>\n",
       "      <td>...</td>\n",
       "      <td>...</td>\n",
       "      <td>...</td>\n",
       "    </tr>\n",
       "    <tr>\n",
       "      <th>16063</th>\n",
       "      <td>9614940</td>\n",
       "      <td>DESCRIPTION OF EMBODIMENTS\\n\\nThe following cl...</td>\n",
       "      <td>6</td>\n",
       "      <td>6</td>\n",
       "      <td>F</td>\n",
       "      <td>1999</td>\n",
       "    </tr>\n",
       "    <tr>\n",
       "      <th>16064</th>\n",
       "      <td>9632156</td>\n",
       "      <td>DETAILED DESCRIPTION OF EXEMPLARY EMBODIMENTS\\...</td>\n",
       "      <td>6</td>\n",
       "      <td>1</td>\n",
       "      <td>R</td>\n",
       "      <td>2588</td>\n",
       "    </tr>\n",
       "    <tr>\n",
       "      <th>16065</th>\n",
       "      <td>9613700</td>\n",
       "      <td>DETAILED DESCRIPTION OF THE EMBODIMENTS\\n\\nIn ...</td>\n",
       "      <td>6</td>\n",
       "      <td>11</td>\n",
       "      <td>C</td>\n",
       "      <td>2967</td>\n",
       "    </tr>\n",
       "    <tr>\n",
       "      <th>16066</th>\n",
       "      <td>9625488</td>\n",
       "      <td>DESCRIPTION OF NUMERALS\\n\\n1First substrate st...</td>\n",
       "      <td>6</td>\n",
       "      <td>1</td>\n",
       "      <td>P</td>\n",
       "      <td>1737</td>\n",
       "    </tr>\n",
       "    <tr>\n",
       "      <th>16067</th>\n",
       "      <td>9625274</td>\n",
       "      <td>DETAILED DESCRIPTION OF THE EMBODIMENTS OF THE...</td>\n",
       "      <td>6</td>\n",
       "      <td>5</td>\n",
       "      <td>D</td>\n",
       "      <td>3656</td>\n",
       "    </tr>\n",
       "  </tbody>\n",
       "</table>\n",
       "<p>16068 rows × 6 columns</p>\n",
       "</div>"
      ],
      "text/plain": [
       "      patent_id                                               text  labels   \n",
       "0       6027859  While the invention is amenable to various mod...       6  \\\n",
       "1       6024498  DETAILED DESCRIPTION \\nFIG. 1 is a plan view o...       6   \n",
       "2       6021245  DETAILED DESCRIPTION \\nThe figures represent o...       6   \n",
       "3       6029359  DETAILED DESCRIPTION OF A PREFERRED EMBODIMENT...       6   \n",
       "4       6011657  DETAILED DESCRIPTION OF THE INVENTION \\nThe in...       6   \n",
       "...         ...                                                ...     ...   \n",
       "16063   9614940  DESCRIPTION OF EMBODIMENTS\\n\\nThe following cl...       6   \n",
       "16064   9632156  DETAILED DESCRIPTION OF EXEMPLARY EMBODIMENTS\\...       6   \n",
       "16065   9613700  DETAILED DESCRIPTION OF THE EMBODIMENTS\\n\\nIn ...       6   \n",
       "16066   9625488  DESCRIPTION OF NUMERALS\\n\\n1First substrate st...       6   \n",
       "16067   9625274  DETAILED DESCRIPTION OF THE EMBODIMENTS OF THE...       6   \n",
       "\n",
       "       ipc_class subclass  word_counts  \n",
       "0              3        F         2785  \n",
       "1              2        B         3228  \n",
       "2              2        B         1196  \n",
       "3              1        C          698  \n",
       "4              2        B         1977  \n",
       "...          ...      ...          ...  \n",
       "16063          6        F         1999  \n",
       "16064          1        R         2588  \n",
       "16065         11        C         2967  \n",
       "16066          1        P         1737  \n",
       "16067          5        D         3656  \n",
       "\n",
       "[16068 rows x 6 columns]"
      ]
     },
     "execution_count": 18,
     "metadata": {},
     "output_type": "execute_result"
    }
   ],
   "source": [
    "df_g_refined"
   ]
  },
  {
   "cell_type": "code",
   "execution_count": 19,
   "id": "7f3af585",
   "metadata": {},
   "outputs": [],
   "source": [
    "df_g_refined.to_csv('../data/refined_patents/chunks/g.csv', index=False)"
   ]
  }
 ],
 "metadata": {
  "kernelspec": {
   "display_name": "Python 3.9.7 ('long_doc_class')",
   "language": "python",
   "name": "python3"
  },
  "language_info": {
   "codemirror_mode": {
    "name": "ipython",
    "version": 3
   },
   "file_extension": ".py",
   "mimetype": "text/x-python",
   "name": "python",
   "nbconvert_exporter": "python",
   "pygments_lexer": "ipython3",
   "version": "3.9.7"
  },
  "vscode": {
   "interpreter": {
    "hash": "8636c2489202858a5294b77a22ebb66f828434ecd5c75dbf50fc6d988a5ae24d"
   }
  }
 },
 "nbformat": 4,
 "nbformat_minor": 5
}
