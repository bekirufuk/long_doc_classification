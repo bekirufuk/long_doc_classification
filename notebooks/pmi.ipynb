{
 "cells": [
  {
   "cell_type": "code",
   "execution_count": 28,
   "metadata": {},
   "outputs": [],
   "source": [
    "import sys, os\n",
    "from datasets import load_from_disk\n",
    "from tqdm import tqdm\n",
    "from matplotlib import pyplot as plt\n",
    "import pandas as pd\n",
    "import numpy as np\n",
    "from itertools import permutations\n",
    "import pickle\n",
    "plt.style.use('seaborn-dark')"
   ]
  },
  {
   "cell_type": "code",
   "execution_count": 72,
   "metadata": {},
   "outputs": [],
   "source": [
    "from transformers import LongformerTokenizerFast\n",
    "tokenizer = LongformerTokenizerFast.from_pretrained('allenai/longformer-base-4096', max_length=4096)\n",
    "id2label =  {0: \"A\", 1: \"B\", 2: \"C\", 3: \"D\", 4: \"E\", 5: \"F\", 6: \"G\", 7: \"H\"}\n",
    "label2description= {'A': 'Human Necessities', 'B':'Performing Operations; Transporting', 'C':'Chemistry; Metallurgy','D':'Textiles; Paper',\n",
    "                    'E':'Fixed Constructions','F':'Mechanical Engineering; Lighting; Heating; Weapons; Blasting','G':'Physics','H':'Electricity'}"
   ]
  },
  {
   "cell_type": "code",
   "execution_count": 83,
   "metadata": {},
   "outputs": [],
   "source": [
    "tokenized_data = load_from_disk('../data/refined_patents/tokenized/longformer_tokenizer_no_stopwords/')"
   ]
  },
  {
   "cell_type": "code",
   "execution_count": 84,
   "metadata": {},
   "outputs": [],
   "source": [
    "input_ids = tokenized_data['train'][8:18]['input_ids']"
   ]
  },
  {
   "cell_type": "code",
   "execution_count": 85,
   "metadata": {},
   "outputs": [],
   "source": [
    "labels = tokenized_data['train'][8:18]['labels']"
   ]
  },
  {
   "cell_type": "code",
   "execution_count": 5,
   "metadata": {},
   "outputs": [],
   "source": [
    "pmi_scores = pd.read_pickle('../data/refined_patents/stats/bigram_pmi_scores_w10_int.pkl')"
   ]
  },
  {
   "cell_type": "code",
   "execution_count": 97,
   "metadata": {},
   "outputs": [
    {
     "name": "stderr",
     "output_type": "stream",
     "text": [
      "100%|██████████| 4085/4085 [00:00<00:00, 17546.69it/s]\n"
     ]
    },
    {
     "name": "stdout",
     "output_type": "stream",
     "text": [
      "Mechanical Engineering; Lighting; Heating; Weapons; Blasting\n",
      "['ays', 'Ġactivates', 'Ġexch', 'Ġelectric', 'Ġelectrom', 'Ġejected', 'Ġpasses', 'Ġdischarge', 'Ġin', 'eb', 'ear', 'Ġfront', 'Ġexisting', 'let', 'anger', 'Ġfilled', 'Ġair', 'icularly', 'Ġmiddle', 'mounted', 'Ġcues', 'ap', 'Ġbuttons', 'Ġfragrance', 'Ġstates', 'Ġrear', 'rov', 'odynamic', 'Ġlow', 'zz', 'Ġabove', 'Ġpresent', 'anical', 'outs', 'Ġsuitable', 'Ġvent', 'Ġdetected', 'Ġaccess', 'abe', 'Ġlevel', 'ent', 'ented', 'def', 'Ġindic', 'Ġprec', 'Ġabsorb', 'ech', 'Ġperpend', 'Ġdescription', 'artments', 'Ġinvention', 'Ġcontinuously', 'Ġmonitoring', 'Ġbursts', 'Ġpipes', 'Ġsupplemental', 'Ġfan', 'ending', 'Ġtitanium', 'charged', 'Ġcontro', 'Ġsensor', 'Ġconditioning', 'inged', 'Ġpump', 'Ġnozzle', 'Ġsensors', 'Ġconcern', 'Ġsink', 'Ġev', 'Ġlights', 'Ġdirects', 'Ġflowing', 'Ġindicators', 'Ġdownstream', 'Ġspray', 'xt', 'oration', 'fac', 'ailed', 'Ġlimited', 'Ġexiting', 'Ġthermal', 'Ġfeatures', 'Ġmanifold', 'Ġexchange', 'Ġairs', 'Ġoutlet', 'otally', 'Ġresistant', 'Ġclaims', 'Ġcorrosion', 'Ġplastic', 'Ġled', 'vil', 'Ġreference', 'Ġlight', 'iod', 'Ġstatus', 'Ġspr', 'Ġdurable', 'Ġheat', 'Ġembodiments', 'ites', 'Ġbattery', 'Ġall', 'det', 'Ġaluminum', 'Ġrecharge', 'Ġencompasses', 'Ġmoist', 'Ġsteel', 'Ġconsistently', 'Ġdrawings', 'Ġlightweight', 'Ġnickel', 'Ġthroughout', 'Ġpleasant', 'Ġscope', 'Ġcompos', 'Ġemitting', 'Ġstainless', 'oys', 'angers', 'Ġfin', 'Ġdenote', 'Ġcharacters', 'similar']\n",
      "\n",
      "################\n",
      "\n"
     ]
    },
    {
     "name": "stderr",
     "output_type": "stream",
     "text": [
      "100%|██████████| 4085/4085 [00:00<00:00, 23208.77it/s]\n"
     ]
    },
    {
     "name": "stdout",
     "output_type": "stream",
     "text": [
      "Performing Operations; Transporting\n",
      "['Ġrear', 'Ġwings', 'Ġeffort', 'Ġdownward', 'sters', 'Ġclearance', 'Ġconsidering', 'ag', 'Ġshall', 'Ġmove', 'Ġilluminate', 'Ġpermit', 'essed', 'through', 'Ġouter', 'Ġmember', 'Ġtends', 'Ġsubstantially', 'Ġlater', 'obs', 'Ġreside', 'Ġfitt', 'aper', 'Ġsized', 'Ġpush', 'Ġarticles', 'Ġplacement', 'Ġdeployed', 'eral', 'Ġlower', 'Ġball', 'Ġextend', 'Ġstud', 'Ġrotation', 'Ġfixing', 'Ġarms', 'Ġproject', 'Ġholes', 'Ġleverage', 'Ġtowards', 'Ġattaches', 'Ġbranch', 'Ġpreferred', 'Ġcircular', 'ots', 'Ġheads', 'Ġperiphery', 'Ġset', 'Ġembodiments', 'Ġmay', 'Ġhole', 'Ġposition', 'Ġlink', 'ressing', 'Ġpins', 'Ġpasses', 'Ġallowing', 'amped', 'Ġnum', 'Ġcomp', 'Ġraise', 'Ġtop', 'Ġsimilar', 'Ġlever', 'Ġupward', 'Ġdefining', 'isp', 'Ġstrut', 'Ġlegs', 'Ġpiv', 'Ġdisposed', 'Ġpair', 'Ġfixed', 'Ġinstant', 'Ġmeaning', 'Ġstructural', 'shaped', 'Ġend', 'um', 'Ġvalve', 'Ġbolt', 'Ġarm', 'Ġdifferences', 'ly', 'Ġthreaded', 'Ġwherein', 'Ġfair', 'Ġexerted', 'Ġhem', 'Ġparts', 'Ġclaims', 'Ġstance', 'istant', 'Ġconverge', 'Ġconcent', 'Ġsided', 'Ġbolts', 'Ġextrem', 'above', 'Ġsuccinct', 'description', 'herical', 'Ġtrunc', 'Ġapparent', 'eways', 'Ġeffortlessly', 'Ġdrawing', 'Ġwithout', 'Ġtier', 'cr', 'Ġscope', 'Ġlike', 'Ġforth', 'Ġpyramid', 'Ġthroughout', 'Ġdeparting', 'Ġherein', 'Ġdrawings', 'Ġnumerous', 'Ġfigures', 'Ġdenote', 'Ġreference', 'Ġful', 'Ġresorted', 'als', 'Ġmodifications', 'Ġnumer', 'Ġadaptations']\n",
      "\n",
      "################\n",
      "\n"
     ]
    },
    {
     "name": "stderr",
     "output_type": "stream",
     "text": [
      "100%|██████████| 4085/4085 [00:00<00:00, 18413.33it/s]\n"
     ]
    },
    {
     "name": "stdout",
     "output_type": "stream",
     "text": [
      "Electricity\n",
      "['Ġsinking', 'incre', 'met', 'fig', 'mic', 'Ġcontact', 'Ġsealed', 'onet', 'Ġranging', 'Ġconf', 'ap', 'Ġdiffuse', 'Ġfactor', 'ensation', 'Ġschematic', 'Ġabsorbing', 'rop', 'yl', 'Ġwithout', 'articles', 'Ġporous', 'Ġparticles', 'Ġled', 'Ġglobe', 'Ġinput', 'Ġvisibility', 'Ġliquid', 'ar', 'ues', 'Ġopt', 'cd', 'Ġcond', 'lu', 'orm', 'Ġmanufacturing', 'Ġregulation', 'Ġcircuitry', 'ol', 'Ġsize', 'absor', 'Ġconverter', 'Ġdiff', 'still', 'Ġsuch', 'Ġglare', 'eter', 'ifying', 'Ġadvantage', 'Ġcosts', 'Ġsour', 'Ġref', 'Ġwhite', 'Ġmodifications', 'Ġvapor', 'det', 'isting', 'Ġlimitation', 'arity', 'Ġbay', 'orpor', 'contin', 'Ġyellow', 'Ġscope', 'Ġu', 'Ġher', 'Ġconnect', 'Ġimproved', 'using', 'Ġcontacts', 'Ġtransparent', 'Ġcorrection', 'iences', 'oc', 'Ġis', 'ifier', 'Ġmet', 'Ġboiling', 'ractive', 'Ġatmospheric', 'Ġconjunction', 'Ġfrost', 'Ġpores', 'Ġnano', 'Ġev', 'Ġconducts', 'Ġrgb', 'Ġphosph', 'Ġhydro', 'Ġenterprise', 'oration', 'Ġrelevant', 'Ġfeatures', 'Ġred', 'Ġbecome', 'Ġpree', 'han', 'Ġenvelop', 'Ġmic', 'Ġmogul', 'Ġtranslucent', 'icol', 'Ġdrawings', 'Ġrect', 'Ġprinciples', 'flu', 'Ġgreen', 'Ġscattering', 'Ġelectrical', 'Ġadaptations', 'apor', 'ious', 'Ġforegoing', 'Ġarts', 'Ġexpertise', 'bons', 'Ġethanol', 'Ġclassic', 'Ġskilled', 'Ġblue', 'enses', 'Ġconsidered', 'var', 'rative', 'Ġteachings', 'Ġaccompanying', 'Ġapparent', 'Ġillust', 'Ġmerely']\n",
      "\n",
      "################\n",
      "\n"
     ]
    },
    {
     "name": "stderr",
     "output_type": "stream",
     "text": [
      "100%|██████████| 4085/4085 [00:00<00:00, 17200.40it/s]\n"
     ]
    },
    {
     "name": "stdout",
     "output_type": "stream",
     "text": [
      "Performing Operations; Transporting\n",
      "['Ġtrans', 'Ġsecurity', 'Ġcharging', 'Ġnumbers', 'Ġspeed', 'ired', 'Ġrepository', 'Ġhelp', 'Ġlogic', 'Ġprocessed', 'Ġbattery', 'Ġproximity', 'Ġactivates', 'Ġcar', 'Ġfront', 'ptic', 'Ġsignal', 'Ġtele', 'Ġdetected', 'axis', 'Ġrot', 'Ġstores', 'Ġphrase', 'Ġcontinue', 'Ġparticular', 'Ġmodem', 'Ġmod', 'Ġminus', 'Ġmemory', 'atively', 'Ġdescription', 'Ġantenna', 'Ġride', 're', 'Ġfrequency', 'Ġtransmission', 'Ġrear', 'Ġstored', 'Ġsettings', 'Ġcommunicated', 'Ġrefers', 'Ġlimiting', 'Ġhere', 'od', 'Ġsudden', 'Ġnotified', 'Ġantennas', 'Ġwheels', 'istent', 'Ġacceleration', 'Ġreview', 'ulated', 'Ġacceler', 'Ġinterface', 'Ġpresented', 'Ġonly', 'Ġreference', 'Ġvisual', 'Ġpatent', 'Ġsenses', 'Ġtriggers', 'Ġlimit', 'Ġoper', 'Ġalert', 'Ġapplication', 'ious', 'Ġsolely', 'Ġalarm', 'Ġsends', 'Ġaudio', 'Ġmodulation', 'Ġaudible', 'Ġtransm', 'Ġdrawings', 'Ġuser', 'celer', 'Ġfigures', 'Ġsolar', 'Ġcoupled', 'Ġonboard', 'Ġattempting', 'lessly', 'Ġmade', 'ailed', 'metry', 'controller', 'Ġdem', 'Ġgh', 'Ġdescribed', 'Ġsleep', 'Ġpaved', 'Ġwake', 'Ġreadily', 'var', 'ceiver', 'Ġprocessor', 'ited', 'Ġtriggered', 'Ġthereto', 'Ġbicycle', 'Ġclaiming', 'Ġtransmitted', 'Ġalerts', 'Ġtransmit', 'Ġentirety', 'det', 'Ġart', 'Ġdescriptions', 'Ġrider', 'although', 'Ġincorporated', 'Ġfall', 'Ġlimited', 'Ġforegoing', 'Ġaide', 'Ġriding', 'Ġinventions', 'Ġskilled', 'Ġsomeone', 'Ġapparent', 'Ġbike', 'ended', 'Ġclaims', 'Ġcommunications', 'Ġcited', 'Ġscope', 'Ġintended', 'Ġapp']\n",
      "\n",
      "################\n",
      "\n"
     ]
    },
    {
     "name": "stderr",
     "output_type": "stream",
     "text": [
      "100%|██████████| 4085/4085 [00:00<00:00, 14197.93it/s]\n"
     ]
    },
    {
     "name": "stdout",
     "output_type": "stream",
     "text": [
      "Chemistry; Metallurgy\n",
      "['Ġboil', 'Ġii', 'Ġpoly', 't', 'Ġcuring', 'Ġscope', 'Ġcompounds', 'Ġminutes', 'Ġflakes', 'Ġdeviation', 'Ġreactor', 'Ġc', 'Ġpure', 'Ġpresence', 'Ġpercent', 'Ġfifteen', 'det', 'rea', 'omp', 'Ġboiled', 'Ġfurnish', 'Ġca', 'Ġnos', 'Ġpar', 'inder', 'Ġweight', 'Ġstrength', 'Ġconcentration', 'onent', 'en', 'Ġstar', 'Ġcataly', 'Ġtwenty', 'Ġcondensed', 'mic', 'Ġskilled', 'il', 'Ġres', 'Ġderivatives', 'Ġmixing', 'ine', 'ide', 'col', 'Ġcatalyst', 'four', 'Ġacet', 'Ġonly', 'ap', 'degree', 'et', 'Ġcure', 'Ġheated', 'Ġsolution', 'amine', 'Ġhex', 'olar', 'ins', 'Ġcond', 'Ġwood', 'Ġast', 'Ġeconomically', 'Ġbinding', 'xy', 'Ġallowed', 'Ġwax', 'Ġmodifiers', 'other', 'Ġhydro', 'am', 'one', 'Ġunnecessary', 'yl', 'sts', 'Ġclear', 'Ġtested', 'ram', 'Ġsubstituted', 'Ġsatisf', 'Ġalk', 'Ġaccelerate', 'aldehyde', 'Ġmin', 'Ġsodium', 'Ġreacted', 'ethyl', 'Ġmel', 'rox', 'iam', 'ixtures', 'Ġdisclosed', 'Ġpat', 'Ġderivative', 'Ġlimitations', 'ah', 'aline', 'de', 'zen', 'ols', 'ben', 'Ġpotassium', 'Ġmodifications', 'Ġsoaking', 'roxy', 'Ġhyd', 'Ġunderstanding', 'ner', 'Ġam', 'Ġavg', 'yan', 'quin', 'olic', 'olics', 'hyd', 'Ġpara', 'Ġmole', 'Ġstd', 'ohyd', 'Ġsugars', 'oles', 'ophen', 'yd', 'hyde', 'lde', 'ensation', 'atech', 'hen', 'Ġgard', 'Ġparap']\n",
      "\n",
      "################\n",
      "\n"
     ]
    },
    {
     "name": "stderr",
     "output_type": "stream",
     "text": [
      "100%|██████████| 4085/4085 [00:00<00:00, 23589.56it/s]\n"
     ]
    },
    {
     "name": "stdout",
     "output_type": "stream",
     "text": [
      "Mechanical Engineering; Lighting; Heating; Weapons; Blasting\n",
      "['Ġelong', 'Ġdesignated', 'Ġopenings', 'all', 'Ġline', 'Ġindicated', 'Ġalternating', 'ge', 'Ġpreferred', 'hed', 'Ġoffset', 'Ġapplied', 'Ġsuccessive', 'Ġreferring', 'Ġexemplary', 'Ġformed', 'Ġrotation', 'Ġmembers', 'Ġlever', 'Ġseries', 'Ġarranged', 'Ġbi', 'Ġmaintain', 'Ġplane', 'Ġregulating', 'Ġconduit', 'Ġgiven', 'Ġarticulated', 'Ġinward', 'Ġrecept', 'Ġdefine', 'Ġrectangular', 'versely', 'acles', 'Ġclosed', 'Ġtoward', 'Ġinternal', 'Ġmoves', 'Ġspace', 'Ġcenter', 'oves', 'Ġintegral', 'ial', 'Ġsidew', 'Ġarm', 'Ġdifferential', 'Ġgro', 'Ġlink', 'Ġsufficient', 'Ġouter', 'Ġposition', 'Ġaxis', 'Ġcauses', 'asing', 'shaped', 'Ġmember', 'Ġvertical', 'Ġopening', 'Ġtorque', 'Ġend', 'Ġmay', 'Ġphantom', 'Ġdownward', 'Ġurged', 'Ġsupported', 'Ġgenerally', 'ly', 'Ġax', 'Ġrestoring', 'Ġlinks', 'Ġaxle', 'Ġapplies', 'Ġunderstood', 'Ġshoulder', 'Ġovercome', 'Ġadjacent', 'Ġurge', 'Ġbear', 'ator', 'Ġoutward', 'Ġcyl', 'ially', 'description', 'Ġrot', 'ind', 'Ġthereof', 'Ġlimited', 'Ġexamples', 'Ġinclined', 'atable', 'ges', 'Ġherein', 'rical', 'Ġconver', 'Ġtending', 'Ġin', 'Ġbears', 'Ġdefines', 'Ġflow', 'Ġforms', 'Ġprescribe', 'Ġwithout', 'Ġprojects', 'Ġextends', 'Ġrid', 'Ġspecific', 'Ġridge', 'Ġdetails', 'itely', 'Ġdiver', 'Ġfluid', 'Ġspirit', 'Ġdeparting', 'Ġpair', 'Ġopposes', 'Ġoppos', 'let', 'Ġactu', 'alls', 'Ġtherefore', 'Ġoutlet', 'Ġembodied', 'Ġembodiments', 'Ġrestrictive', 'rative', 'Ġillust', 'Ġconsidered', 'Ġrespects']\n",
      "\n",
      "################\n",
      "\n"
     ]
    },
    {
     "name": "stderr",
     "output_type": "stream",
     "text": [
      "100%|██████████| 4085/4085 [00:00<00:00, 19663.93it/s]\n"
     ]
    },
    {
     "name": "stdout",
     "output_type": "stream",
     "text": [
      "Human Necessities\n",
      "['Ġconditions', 'Ġdissolve', 'Ġii', 'Ġold', 'Ġrates', 'Ġtotal', 'Ġfresh', 'mol', 'Ġdes', 'Ġa', 'Ġpe', 'ant', 'Ġdaylight', 'Ġnat', 'ogenous', 'Ġtreatments', 'Ġfive', 'Ġgreen', 'c', 'Ġremove', 'Ġinduce', 'Ġingredient', 'Ġnitrogen', 'Ġreduces', 'm', 'Ġdosage', 'aine', 'ized', 'Ġinsect', 'Ġdry', 'atur', 'Ġprobably', 'Ġtissues', 'k', 'Ġuniversity', 'Ġnic', 'Ġday', 'Ġvariance', '.,', 'um', 'ki', 'aj', 'ite', 'Ġbi', 'Ġsoil', 'ul', 'imeter', 'atography', 'Ġtable', 'Ġresulted', 'Ġslashed', 'Ġstimulate', 'Ġforty', 'Ġexperiments', 'Ġmodel', 'anted', 'Ġseed', 'Ġwhere', 'Ġweighed', 'act', 'Ġli', 'Ġdried', 'Ġsurf', 'Ġpests', 'ugar', 'ak', 'Ġadministered', 'Ġcry', 'sup', 'Ġcontent', 'Ġfertilizer', 'Ġchrom', 'mic', 'houses', 'Ġcooled', 'Ġpots', 'Ġstatistically', 'ous', 'Ġplant', 'Ġyellow', 'Ġcultivation', 'Ġweeks', 'aturation', 'Ġdays', 'eight', 'mu', 'Ġsolution', 'Ġlic', 'Ġgrow', 'Ġva', 'Ġment', 'Ġtopped', 'Ġhumidity', 'Ġbuds', 'Ġexperiment', 'icc', 'Ġke', 'Ġinc', 'stat', 'Ġtraditional', 'Ġmonths', 'que', 'rodu', 'Ġimposition', 'iana', 'Ġver', 'Ġharvest', 'Ġtranspl', 'Ġnp', 'Ġanalysis', 'lings', 'week', 'Ġwatered', 'Ġtransplant', 'Ġage', 'Ġplants', 'Ġexper', 'Ġanalyzed', 'Ġoy', 'amsung', 'ira', 'gha', 'asa', 'incoln', 'weekly', 'Ġhect', 'inki', 'Ġplantations']\n",
      "\n",
      "################\n",
      "\n"
     ]
    },
    {
     "name": "stderr",
     "output_type": "stream",
     "text": [
      "100%|██████████| 4085/4085 [00:00<00:00, 15831.53it/s]"
     ]
    },
    {
     "name": "stdout",
     "output_type": "stream",
     "text": [
      "Mechanical Engineering; Lighting; Heating; Weapons; Blasting\n",
      "['Ġlongitudinal', 'Ġknowledge', 'Ġportion', 'Ġmoving', 'ward', 'Ġsealing', 'Ġrespect', 'ailed', 'Ġshoe', 'Ġengaging', 'Ġseal', 'Ġstroke', 'Ġmotor', 'Ġbore', 'Ġaccommod', 'Ġsecondary', 'Ġsupported', 'Ġconsequently', 'Ġuses', 'Ġbias', 'Ġorbital', 'Ġspaced', 'Ġresists', 'Ġalong', 'ially', 'ots', 'Ġouter', 'at', 'ext', 'Ġprimary', 'ational', 'Ġlever', 'Ġdownward', 'Ġpivotal', 'Ġapplications', 'Ġextent', 'Ġbi', 'Ġlocking', 'Ġextends', 'Ġcutting', 'Ġinner', 'det', 'Ġengagement', 'Ġseals', 'Ġtight', 'Ġchassis', 'oted', 'Ġdebris', 'Ġprevent', 'Ġmoves', 'Ġparticular', 'Ġpiv', 'Ġarm', 'Ġdriven', 'Ġmoved', 'Ġknown', 'Ġcomm', 'Ġhandle', 'Ġret', 'Ġrounded', 'oting', 'Ġslid', 'Ġaxis', 'cutting', 'Ġrotating', 'Ġpivot', 'ion', 'Ġpin', 'Ġart', 'Ġretain', 'Ġretaining', 'Ġmotion', 'rical', 'Ġfit', 'Ġengages', 'urate', 'Ġinfinitely', 'ind', 'Ġutilize', 'Ġengaged', 'Ġforegoing', 'indle', 'asing', 'Ġcyl', 'Ġherein', 'Ġdiseng', 'Ġengage', 'Ġmounted', 'Ġcam', 'Ġenable', 'Ġvarious', 'Ġskill', 'Ġscope', 'ended', 'ainer', 'Ġdescribed', 'Ġfollower', 'Ġteachings', 'Ġmov', 'Ġhub', 'Ġhollow', 'Ġrotation', 'ably', 'Ġdisclosed', 'Ġmodifications', 'Ġillustration', 'ble', 'Ġintended', 'Ġpurposes', 'Ġapp', 'Ġdrive', 'Ġclaims', 'Ġskilled', 'Ġembodiments', 'Ġothers', 'Ġshaft', 'Ġvariations', 'Ġpresented', 'Ġrot', 'Ġmodes', 'Ġgear', 'Ġecc', 'Ġbest', 'Ġeccentric', 'Ġconstrued', 'Ġpracticing', 'Ġwob', 'Ġexplain']\n",
      "\n",
      "################\n",
      "\n"
     ]
    },
    {
     "name": "stderr",
     "output_type": "stream",
     "text": [
      "\n"
     ]
    }
   ],
   "source": [
    "window = 10\n",
    "idlist = range(0,4096)\n",
    "\n",
    "#global_attention_map = np.zeros(input_ids.shape, dtype=np.long)\n",
    "\n",
    "for j in range(len(input_ids)):\n",
    "    pmi_map = np.zeros((4096, 4096))\n",
    "    for i in tqdm(range(1,len(input_ids[j]) - window)):\n",
    "        for k, bigram in enumerate(perm(idlist[i:i+window], 2)):\n",
    "            x = input_ids[j][bigram[0]]\n",
    "            y = input_ids[j][bigram[1]]\n",
    "            if (x,y) in pmi_scores.keys():\n",
    "                pmi_map[bigram[0]][bigram[1]] = pmi_scores[(x,y)]\n",
    "\n",
    "    token_scores = pmi_map.sum(axis=1)\n",
    "\n",
    "    pmi_map = pd.DataFrame(data={'pmi_values':token_scores, 'input_ids':input_ids[j]})\n",
    "\n",
    "    unique_pmi_map = pmi_map.drop_duplicates(subset=['input_ids'])\n",
    "\n",
    "    top_tfidf_idxs = unique_pmi_map.sort_values(by='pmi_values')[-128:].index\n",
    "\n",
    "    # Print the label description of the document along with the determinded global tokens.\n",
    "    print(label2description[id2label[labels[j]]])  \n",
    "    print(tokenizer.convert_ids_to_tokens(np.array(input_ids[j])[top_tfidf_idxs]))\n",
    "    \n",
    "    print('\\n################\\n')\n",
    "\n",
    "    '''print(label2description[id2label[labels[j]]],':')\n",
    "    print(tokenizer.convert_ids_to_tokens(np.array(input_ids[j])[argsorted_token_scores[-128:]]))\n",
    "    print('\\n################\\n')'''"
   ]
  },
  {
   "cell_type": "code",
   "execution_count": 30,
   "metadata": {},
   "outputs": [
    {
     "name": "stderr",
     "output_type": "stream",
     "text": [
      "100%|██████████| 1534/1534 [00:00<00:00, 9205.05it/s]\n"
     ]
    },
    {
     "data": {
      "image/png": "[encoded data removed]",
      "text/plain": [
       "<Figure size 432x288 with 1 Axes>"
      ]
     },
     "metadata": {},
     "output_type": "display_data"
    }
   ],
   "source": [
    "window = 10\n",
    "doc_id = 0\n",
    "\n",
    "idlist = range(0,4096)\n",
    "pmi_map = np.zeros((4096, 4096))\n",
    "\n",
    "for i in tqdm(range(1,len(input_ids[doc_id]) - window)):\n",
    "    for k, bigram in enumerate(perm(idlist[i:i+window], 2)):\n",
    "        x = input_ids[doc_id][bigram[0]]\n",
    "        y = input_ids[doc_id][bigram[1]]\n",
    "        if (x,y) in pmi_scores.keys():\n",
    "            pmi_map[bigram[0]][bigram[1]] = pmi_scores[(x,y)]\n",
    "plt.imshow(pmi_map, cmap='Greys', interpolation='nearest', aspect='auto' )\n",
    "plt.show()"
   ]
  },
  {
   "cell_type": "code",
   "execution_count": 101,
   "metadata": {},
   "outputs": [
    {
     "name": "stdout",
     "output_type": "stream",
     "text": [
      "      pmi_values  input_ids\n",
      "0       0.000000          0\n",
      "1      22.972191      17701\n",
      "2      18.917894      13355\n",
      "3      16.757258       8194\n",
      "4      14.296609       6813\n",
      "...          ...        ...\n",
      "4091    0.000000          1\n",
      "4092    0.000000          1\n",
      "4093    0.000000          1\n",
      "4094    0.000000          1\n",
      "4095    0.000000          1\n",
      "\n",
      "[4096 rows x 2 columns]\n"
     ]
    }
   ],
   "source": [
    "print(pmi_map)"
   ]
  },
  {
   "cell_type": "code",
   "execution_count": null,
   "metadata": {},
   "outputs": [],
   "source": []
  }
 ],
 "metadata": {
  "kernelspec": {
   "display_name": "Python 3.9.12 ('long_doc_class')",
   "language": "python",
   "name": "python3"
  },
  "language_info": {
   "codemirror_mode": {
    "name": "ipython",
    "version": 3
   },
   "file_extension": ".py",
   "mimetype": "text/x-python",
   "name": "python",
   "nbconvert_exporter": "python",
   "pygments_lexer": "ipython3",
   "version": "3.9.12"
  },
  "orig_nbformat": 4,
  "vscode": {
   "interpreter": {
    "hash": "68aa273fc7d4ca4d3445a3e4a44b481b7e619f69c0e47033a8637dc88caf9f63"
   }
  }
 },
 "nbformat": 4,
 "nbformat_minor": 2
}
