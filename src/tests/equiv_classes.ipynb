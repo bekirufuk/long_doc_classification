{
 "cells": [
  {
   "cell_type": "markdown",
   "metadata": {},
   "source": [
    "# Imports"
   ]
  },
  {
   "cell_type": "code",
   "execution_count": 8,
   "metadata": {},
   "outputs": [],
   "source": [
    "import numpy as np\n",
    "from itertools import product, combinations\n",
    "import more_itertools\n",
    "import matplotlib.pyplot as plt"
   ]
  },
  {
   "cell_type": "markdown",
   "metadata": {},
   "source": [
    "# Bell Number Finder"
   ]
  },
  {
   "cell_type": "code",
   "execution_count": 6,
   "metadata": {},
   "outputs": [
    {
     "name": "stdout",
     "output_type": "stream",
     "text": [
      "172134143357358850934369963665272571125557575184049758045339873395\n",
      "1.721341e+65\n"
     ]
    }
   ],
   "source": [
    "def get_bell_number(n):\n",
    "    s = [[0 for _ in range(n+1)] for _ in range(n+1)]\n",
    "    for i in range(n+1):\n",
    "        for j in range(n+1):\n",
    "            if j > i:\n",
    "                continue\n",
    "            elif(i==j):\n",
    "                s[i][j] = 1\n",
    "            elif(i==0 or j==0):\n",
    "                s[i][j]=0\n",
    "            else:\n",
    "                s[i][j] = j*s[i-1][j] + s[i-1][j-1]\n",
    "    ans = 0\n",
    "    for i in range(0,n+1):\n",
    "        ans+=s[n][i]\n",
    "    print(ans)\n",
    "    print(\"{:e}\".format(ans))\n",
    "get_bell_number(64)"
   ]
  },
  {
   "cell_type": "markdown",
   "metadata": {},
   "source": [
    "# Small Scale Implementation without Relation Constrait (All Equivalence Relations and classes of a given list)"
   ]
  },
  {
   "cell_type": "code",
   "execution_count": 50,
   "metadata": {},
   "outputs": [
    {
     "data": {
      "text/plain": [
       "array([1, 2, 3, 4])"
      ]
     },
     "execution_count": 50,
     "metadata": {},
     "output_type": "execute_result"
    }
   ],
   "source": [
    "n=4\n",
    "R = np.arange(1, n+1)\n",
    "R"
   ]
  },
  {
   "cell_type": "code",
   "execution_count": 51,
   "metadata": {},
   "outputs": [
    {
     "name": "stdout",
     "output_type": "stream",
     "text": [
      "1 class partitions : [[1, 2, 3, 4]]\n",
      "Equivalence Relations: \n",
      "(1, 1), (1, 2), (1, 3), (1, 4), (2, 1), (2, 2), (2, 3), (2, 4), (3, 1), (3, 2), (3, 3), (3, 4), (4, 1), (4, 2), (4, 3), (4, 4), \n",
      "\n",
      "2 class partitions : [[1], [2, 3, 4]]\n",
      "Equivalence Relations: \n",
      "(1, 1), (2, 2), (2, 3), (2, 4), (3, 2), (3, 3), (3, 4), (4, 2), (4, 3), (4, 4), \n",
      "\n",
      "2 class partitions : [[1, 2], [3, 4]]\n",
      "Equivalence Relations: \n",
      "(1, 1), (1, 2), (2, 1), (2, 2), (3, 3), (3, 4), (4, 3), (4, 4), \n",
      "\n",
      "2 class partitions : [[2], [1, 3, 4]]\n",
      "Equivalence Relations: \n",
      "(2, 2), (1, 1), (1, 3), (1, 4), (3, 1), (3, 3), (3, 4), (4, 1), (4, 3), (4, 4), \n",
      "\n",
      "2 class partitions : [[1, 2, 3], [4]]\n",
      "Equivalence Relations: \n",
      "(1, 1), (1, 2), (1, 3), (2, 1), (2, 2), (2, 3), (3, 1), (3, 2), (3, 3), (4, 4), \n",
      "\n",
      "2 class partitions : [[2, 3], [1, 4]]\n",
      "Equivalence Relations: \n",
      "(2, 2), (2, 3), (3, 2), (3, 3), (1, 1), (1, 4), (4, 1), (4, 4), \n",
      "\n",
      "2 class partitions : [[1, 3], [2, 4]]\n",
      "Equivalence Relations: \n",
      "(1, 1), (1, 3), (3, 1), (3, 3), (2, 2), (2, 4), (4, 2), (4, 4), \n",
      "\n",
      "2 class partitions : [[3], [1, 2, 4]]\n",
      "Equivalence Relations: \n",
      "(3, 3), (1, 1), (1, 2), (1, 4), (2, 1), (2, 2), (2, 4), (4, 1), (4, 2), (4, 4), \n",
      "\n",
      "3 class partitions : [[1], [2], [3, 4]]\n",
      "Equivalence Relations: \n",
      "(1, 1), (2, 2), (3, 3), (3, 4), (4, 3), (4, 4), \n",
      "\n",
      "3 class partitions : [[1], [2, 3], [4]]\n",
      "Equivalence Relations: \n",
      "(1, 1), (2, 2), (2, 3), (3, 2), (3, 3), (4, 4), \n",
      "\n",
      "3 class partitions : [[1], [3], [2, 4]]\n",
      "Equivalence Relations: \n",
      "(1, 1), (3, 3), (2, 2), (2, 4), (4, 2), (4, 4), \n",
      "\n",
      "3 class partitions : [[1, 2], [3], [4]]\n",
      "Equivalence Relations: \n",
      "(1, 1), (1, 2), (2, 1), (2, 2), (3, 3), (4, 4), \n",
      "\n",
      "3 class partitions : [[2], [1, 3], [4]]\n",
      "Equivalence Relations: \n",
      "(2, 2), (1, 1), (1, 3), (3, 1), (3, 3), (4, 4), \n",
      "\n",
      "3 class partitions : [[2], [3], [1, 4]]\n",
      "Equivalence Relations: \n",
      "(2, 2), (3, 3), (1, 1), (1, 4), (4, 1), (4, 4), \n",
      "\n",
      "4 class partitions : [[1], [2], [3], [4]]\n",
      "Equivalence Relations: \n",
      "(1, 1), (2, 2), (3, 3), (4, 4), \n",
      "\n"
     ]
    }
   ],
   "source": [
    "def get_partitions_and_classes(R):\n",
    "    for i, partitions in enumerate(more_itertools.set_partitions(R)):\n",
    "        print('{} class partitions : {}'.format(len(partitions), partitions))\n",
    "        print('Equivalence Relations: ')\n",
    "        for partition in partitions:\n",
    "            for p in product(partition,partition):\n",
    "                print(p, end=', ')\n",
    "        print('\\n')\n",
    "get_partitions_and_classes(R)"
   ]
  },
  {
   "cell_type": "code",
   "execution_count": 31,
   "metadata": {},
   "outputs": [
    {
     "data": {
      "text/plain": [
       "array([[0., 0., 0., 0.],\n",
       "       [0., 1., 1., 0.],\n",
       "       [0., 1., 1., 1.],\n",
       "       [0., 0., 1., 1.]])"
      ]
     },
     "execution_count": 31,
     "metadata": {},
     "output_type": "execute_result"
    }
   ],
   "source": [
    "A"
   ]
  },
  {
   "cell_type": "code",
   "execution_count": 12,
   "metadata": {},
   "outputs": [
    {
     "name": "stdout",
     "output_type": "stream",
     "text": [
      "[[1. 1. 1. 1.]\n",
      " [1. 1. 1. 0.]\n",
      " [1. 1. 1. 1.]\n",
      " [1. 0. 1. 1.]]\n"
     ]
    },
    {
     "data": {
      "text/plain": [
       "<matplotlib.image.AxesImage at 0x1a23d125e50>"
      ]
     },
     "execution_count": 12,
     "metadata": {},
     "output_type": "execute_result"
    },
    {
     "data": {
      "image/png": "[encoded data removed]",
      "text/plain": [
       "<Figure size 432x288 with 1 Axes>"
      ]
     },
     "metadata": {
      "needs_background": "light"
     },
     "output_type": "display_data"
    }
   ],
   "source": [
    "A = np.zeros((n,n))\n",
    "for (a,b) in product(R,R):\n",
    "    if a==b or abs(a-b) < 2 or a == 0 or a == 9:\n",
    "        A[a][b] = 1\n",
    "        A[b][a] = 1\n",
    "print(A)\n",
    "plt.imshow(A, cmap='Greys')\n"
   ]
  },
  {
   "cell_type": "code",
   "execution_count": null,
   "metadata": {},
   "outputs": [],
   "source": [
    "for c in combinations(R,2):\n",
    "    print(c)"
   ]
  },
  {
   "cell_type": "code",
   "execution_count": 54,
   "metadata": {},
   "outputs": [],
   "source": [
    "A = np.array([[0., 0., 0., 0.],\n",
    "       [0., 0., 1., 0.],\n",
    "       [0., 0., 1., 0.],\n",
    "       [1., 1., 0., 0.]])"
   ]
  },
  {
   "cell_type": "code",
   "execution_count": 56,
   "metadata": {},
   "outputs": [
    {
     "data": {
      "text/plain": [
       "<matplotlib.image.AxesImage at 0x1a23d9aadc0>"
      ]
     },
     "execution_count": 56,
     "metadata": {},
     "output_type": "execute_result"
    },
    {
     "data": {
      "image/png": "[encoded data removed]",
      "text/plain": [
       "<Figure size 432x288 with 1 Axes>"
      ]
     },
     "metadata": {
      "needs_background": "light"
     },
     "output_type": "display_data"
    }
   ],
   "source": [
    "plt.imshow(A, cmap='Greys')"
   ]
  },
  {
   "cell_type": "code",
   "execution_count": null,
   "metadata": {},
   "outputs": [],
   "source": []
  }
 ],
 "metadata": {
  "kernelspec": {
   "display_name": "Python 3.9.12 ('long_doc_class')",
   "language": "python",
   "name": "python3"
  },
  "language_info": {
   "codemirror_mode": {
    "name": "ipython",
    "version": 3
   },
   "file_extension": ".py",
   "mimetype": "text/x-python",
   "name": "python",
   "nbconvert_exporter": "python",
   "pygments_lexer": "ipython3",
   "version": "3.9.12"
  },
  "orig_nbformat": 4,
  "vscode": {
   "interpreter": {
    "hash": "68aa273fc7d4ca4d3445a3e4a44b481b7e619f69c0e47033a8637dc88caf9f63"
   }
  }
 },
 "nbformat": 4,
 "nbformat_minor": 2
}
